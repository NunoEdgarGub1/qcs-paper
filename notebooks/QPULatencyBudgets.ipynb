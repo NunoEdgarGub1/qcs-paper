{
 "cells": [
  {
   "cell_type": "markdown",
   "metadata": {},
   "source": [
    "# QPU Latency Budgets\n",
    "\n",
    "Code and datasets for producing **Table 1** from [_A quantum-classical cloud platform optimized for variational hybrid algorithms_](https://arxiv.org/abs/2001.04449)."
   ]
  },
  {
   "cell_type": "code",
   "execution_count": 1,
   "metadata": {},
   "outputs": [],
   "source": [
    "import numpy as np\n",
    "import pandas as pd"
   ]
  },
  {
   "cell_type": "markdown",
   "metadata": {},
   "source": [
    "## Load the Data"
   ]
  },
  {
   "cell_type": "code",
   "execution_count": 2,
   "metadata": {},
   "outputs": [],
   "source": [
    "compiler_data = pd.read_csv(\"datasets/compiler-timing-info.csv\")\n",
    "executor_data = pd.read_csv(\"datasets/executor-timing-info.csv\")\n",
    "\n",
    "edge_data = pd.read_csv(\"datasets/edge-characterization.csv\", index_col=\"2q_gate_id\")\n",
    "qubit_data = pd.read_csv(\"datasets/qubit-characterization.csv\", index_col=\"qubit_id\")"
   ]
  },
  {
   "cell_type": "markdown",
   "metadata": {},
   "source": [
    "## Per-Step Latency Budget"
   ]
  },
  {
   "cell_type": "code",
   "execution_count": 3,
   "metadata": {},
   "outputs": [],
   "source": [
    "compilation_ms = np.mean(compiler_data[\"quil_compiler_s\"] + compiler_data[\"qpu_compiler_s\"]) * 1e3\n",
    "load_and_arm_ms = np.mean(executor_data[\"load_ms\"] + executor_data[\"arm_ms\"])"
   ]
  },
  {
   "cell_type": "code",
   "execution_count": 4,
   "metadata": {},
   "outputs": [
    {
     "name": "stdout",
     "output_type": "stream",
     "text": [
      "Per-step latency budget\n",
      "==============================\n",
      "Compilation:\t\t200 ms\n",
      "AWG load & arm:\t\t8 ms\n",
      "AWG trigger:\t\t10 ms\n"
     ]
    }
   ],
   "source": [
    "print(\"Per-step latency budget\")\n",
    "print(\"==============================\")\n",
    "print(f\"Compilation:\\t\\t{int(round(compilation_ms, -2))} ms\")\n",
    "print(f\"AWG load & arm:\\t\\t{int(round(load_and_arm_ms))} ms\")\n",
    "print(f\"AWG trigger:\\t\\t{int(round(np.mean(executor_data['trigger_ms'])))} ms\")"
   ]
  },
  {
   "cell_type": "markdown",
   "metadata": {},
   "source": [
    "## Per-Shot Latency Budget"
   ]
  },
  {
   "cell_type": "code",
   "execution_count": 5,
   "metadata": {},
   "outputs": [],
   "source": [
    "reset_time_us = np.mean(qubit_data[\"t1_time_us\"]) * 5"
   ]
  },
  {
   "cell_type": "code",
   "execution_count": 6,
   "metadata": {},
   "outputs": [
    {
     "name": "stdout",
     "output_type": "stream",
     "text": [
      "Per-shot latency budget\n",
      "==============================\n",
      "Single-qubit gates:\t60 ns\n",
      "Two-qubit gates:\t300 ns\n",
      "Readout & capture:\t2 μs\n",
      "Passive reset:\t\t100 μs\n"
     ]
    }
   ],
   "source": [
    "print(\"Per-shot latency budget\")\n",
    "print(\"==============================\")\n",
    "print(f\"Single-qubit gates:\\t{int(round(np.mean(qubit_data['x90_time_ns']), -1))} ns\")\n",
    "print(f\"Two-qubit gates:\\t{int(round(np.mean(edge_data['2q_gate_time_ns']), -2))} ns\")\n",
    "print(f\"Readout & capture:\\t{int(round(np.mean(qubit_data['ro_time_us'])))} μs\")\n",
    "print(f\"Passive reset:\\t\\t{int(round(reset_time_us, -2))} μs\")"
   ]
  }
 ],
 "metadata": {
  "kernelspec": {
   "display_name": "Python 3",
   "language": "python",
   "name": "python3"
  },
  "language_info": {
   "codemirror_mode": {
    "name": "ipython",
    "version": 3
   },
   "file_extension": ".py",
   "mimetype": "text/x-python",
   "name": "python",
   "nbconvert_exporter": "python",
   "pygments_lexer": "ipython3",
   "version": "3.6.3"
  }
 },
 "nbformat": 4,
 "nbformat_minor": 4
}
