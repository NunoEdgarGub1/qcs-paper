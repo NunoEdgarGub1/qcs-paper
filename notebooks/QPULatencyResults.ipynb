{
 "cells": [
  {
   "cell_type": "markdown",
   "metadata": {},
   "source": [
    "# QPU Latency Results\n",
    "\n",
    "Code and datasets for producing **Figure 5** from _A quantum-classical cloud platform optimized for variational hybrid algorithms_.\n",
    "\n",
    "The `forest-web-api.csv` file contains runtime data from programs run via the **Forest Web API**, the previous iteration of Rigetti's quantum cloud service. The data spans the top ten numbers of shots (1, 10, 50, 100, 500, 1000, 2000, 5000, 8000, 10,000) run on that version of the platform. Additionally, the Forest Web API programs used an average of 3 qubits.\n",
    "\n",
    "The `qcs-standard-compilation.csv` file contains runtime data collected for a wide range of shots (1, 2, 5, 10, 20, 50, 100, 200, 500, 1000, 2000, 5000, 10000, 20000, 50000, 100000) via the **Quantum Cloud Services** (QCS) platform, using the _random phase gadgets_ benchmark on Aspen-4 QPU (which has log quantum volume of 3). The `qcs-parametric-compilation.csv` file contains the same sort of runtime data, but with _parametric compilation_ enabled. Finally, the `qcs-active-qubit-reset.csv` file contains the same sort of runtime data, but with _parametric compilation_ and _active qubit reset_ enabled."
   ]
  },
  {
   "cell_type": "code",
   "execution_count": 1,
   "metadata": {},
   "outputs": [],
   "source": [
    "import matplotlib.pyplot as plt\n",
    "import numpy as np\n",
    "import pandas as pd\n",
    "import seaborn as sns\n",
    "from lmfit.models import LinearModel\n",
    "sns.set_style(\"ticks\")"
   ]
  },
  {
   "cell_type": "markdown",
   "metadata": {},
   "source": [
    "## Load the Data"
   ]
  },
  {
   "cell_type": "code",
   "execution_count": 2,
   "metadata": {},
   "outputs": [],
   "source": [
    "df_forest_web_api = pd.read_csv(\"datasets/forest-web-api.csv\")\n",
    "df_qcs_standard_compilation = pd.read_csv(\"datasets/qcs-standard-compilation.csv\")\n",
    "df_qcs_parametric_compilation = pd.read_csv(\"datasets/qcs-parametric-compilation.csv\")\n",
    "df_qcs_active_qubit_reset = pd.read_csv(\"datasets/qcs-active-qubit-reset.csv\")"
   ]
  },
  {
   "cell_type": "code",
   "execution_count": 3,
   "metadata": {},
   "outputs": [],
   "source": [
    "def get_medians_dict(df: pd.DataFrame) -> dict:\n",
    "    medians_dict = {}\n",
    "    for shots in df.shots.unique():\n",
    "        medians_dict[shots] = np.median(df[df.shots == shots].time)\n",
    "    return medians_dict"
   ]
  },
  {
   "cell_type": "code",
   "execution_count": 4,
   "metadata": {},
   "outputs": [],
   "source": [
    "medians_forest_web_api = get_medians_dict(df_forest_web_api)\n",
    "medians_qcs_standard_compilation = get_medians_dict(df_qcs_standard_compilation)\n",
    "medians_qcs_parametric_compilation = get_medians_dict(df_qcs_parametric_compilation)\n",
    "medians_qcs_active_qubit_reset = get_medians_dict(df_qcs_active_qubit_reset)"
   ]
  },
  {
   "cell_type": "code",
   "execution_count": 5,
   "metadata": {},
   "outputs": [],
   "source": [
    "x_forest_web_api = list(medians_forest_web_api.keys())\n",
    "x_qcs_standard_compilation = list(medians_qcs_standard_compilation.keys())\n",
    "x_qcs_parametric_compilation = list(medians_qcs_parametric_compilation.keys())\n",
    "x_qcs_active_qubit_reset = list(medians_qcs_active_qubit_reset.keys())\n",
    "\n",
    "y_forest_web_api = list(medians_forest_web_api.values())\n",
    "y_qcs_standard_compilation = list(medians_qcs_standard_compilation.values())\n",
    "y_qcs_parametric_compilation = list(medians_qcs_parametric_compilation.values())\n",
    "y_qcs_active_qubit_reset = list(medians_qcs_active_qubit_reset.values())"
   ]
  },
  {
   "cell_type": "markdown",
   "metadata": {},
   "source": [
    "## Fit the Data"
   ]
  },
  {
   "cell_type": "code",
   "execution_count": 6,
   "metadata": {},
   "outputs": [],
   "source": [
    "linear_model = LinearModel()"
   ]
  },
  {
   "cell_type": "markdown",
   "metadata": {},
   "source": [
    "### Extract $T_Q$ from slope"
   ]
  },
  {
   "cell_type": "code",
   "execution_count": 7,
   "metadata": {},
   "outputs": [
    {
     "name": "stdout",
     "output_type": "stream",
     "text": [
      "T_Q = 270 μs\n"
     ]
    }
   ],
   "source": [
    "fit_result_forest_web_api = linear_model.fit(data=y_forest_web_api, x=x_forest_web_api)\n",
    "tQ_forest_web_api = int(round(fit_result_forest_web_api.values[\"slope\"] * 1e6, -1))\n",
    "print(f\"T_Q = {tQ_forest_web_api} μs\")"
   ]
  },
  {
   "cell_type": "code",
   "execution_count": 8,
   "metadata": {},
   "outputs": [
    {
     "name": "stdout",
     "output_type": "stream",
     "text": [
      "T_Q = 110 μs\n"
     ]
    }
   ],
   "source": [
    "fit_result_qcs_standard_compilation = linear_model.fit(data=y_qcs_standard_compilation,\n",
    "                                                       x=x_qcs_standard_compilation)\n",
    "tQ_qcs_standard_compilation = int(round(fit_result_qcs_standard_compilation.values[\"slope\"] * 1e6, -1))\n",
    "print(f\"T_Q = {tQ_qcs_standard_compilation} μs\")"
   ]
  },
  {
   "cell_type": "code",
   "execution_count": 9,
   "metadata": {},
   "outputs": [
    {
     "name": "stdout",
     "output_type": "stream",
     "text": [
      "[1, 2, 5, 10, 20, 50, 100, 200, 500, 1000, 2000, 5000, 10000, 20000, 50000, 100000]\n"
     ]
    }
   ],
   "source": [
    "print(x_qcs_parametric_compilation)"
   ]
  },
  {
   "cell_type": "code",
   "execution_count": 10,
   "metadata": {},
   "outputs": [
    {
     "name": "stdout",
     "output_type": "stream",
     "text": [
      "T_Q = 110 μs\n"
     ]
    }
   ],
   "source": [
    "fit_result_qcs_parametric_compilation = linear_model.fit(data=y_qcs_parametric_compilation,\n",
    "                                                         x=x_qcs_parametric_compilation)\n",
    "tQ_qcs_parametric_compilation = int(round(fit_result_qcs_parametric_compilation.values[\"slope\"] * 1e6, -1))\n",
    "print(f\"T_Q = {tQ_qcs_parametric_compilation} μs\")"
   ]
  },
  {
   "cell_type": "code",
   "execution_count": 11,
   "metadata": {},
   "outputs": [
    {
     "name": "stdout",
     "output_type": "stream",
     "text": [
      "T_Q = 21 μs\n"
     ]
    }
   ],
   "source": [
    "fit_result_qcs_active_qubit_reset = linear_model.fit(data=y_qcs_active_qubit_reset,\n",
    "                                                     x=x_qcs_active_qubit_reset)\n",
    "tQ_qcs_active_qubit_reset = int(round(fit_result_qcs_active_qubit_reset.values[\"slope\"] * 1e6))\n",
    "print(f\"T_Q = {tQ_qcs_active_qubit_reset} μs\")"
   ]
  },
  {
   "cell_type": "markdown",
   "metadata": {},
   "source": [
    "### Extract $T_V$ from intercept (for shots <= 1000)"
   ]
  },
  {
   "cell_type": "code",
   "execution_count": 12,
   "metadata": {},
   "outputs": [
    {
     "name": "stdout",
     "output_type": "stream",
     "text": [
      "T_V = 1.0 s\n"
     ]
    }
   ],
   "source": [
    "fit_result_low_shots_forest_web_api = linear_model.fit(data=y_forest_web_api[:6], x=x_forest_web_api[:6])\n",
    "tV_forest_web_api = round(fit_result_low_shots_forest_web_api.values[\"intercept\"])\n",
    "print(f\"T_V = {tV_forest_web_api} s\")"
   ]
  },
  {
   "cell_type": "code",
   "execution_count": 13,
   "metadata": {},
   "outputs": [
    {
     "name": "stdout",
     "output_type": "stream",
     "text": [
      "T_V = 410 ms\n"
     ]
    }
   ],
   "source": [
    "fit_result_low_shots_qcs_standard_compilation = linear_model.fit(data=y_qcs_standard_compilation[:10],\n",
    "                                                                 x=x_qcs_standard_compilation[:10])\n",
    "tV_qcs_standard_compilation = int(round(fit_result_low_shots_qcs_standard_compilation.values[\"intercept\"] * 1e3, -1))\n",
    "print(f\"T_V = {tV_qcs_standard_compilation} ms\")"
   ]
  },
  {
   "cell_type": "code",
   "execution_count": 14,
   "metadata": {},
   "outputs": [
    {
     "name": "stdout",
     "output_type": "stream",
     "text": [
      "T_V = 36 ms\n"
     ]
    }
   ],
   "source": [
    "fit_result_low_shots_qcs_parametric_compilation = linear_model.fit(data=y_qcs_parametric_compilation[:10],\n",
    "                                                                   x=x_qcs_parametric_compilation[:10])\n",
    "tV_qcs_parametric_compilation = int(round(fit_result_low_shots_qcs_parametric_compilation.values[\"intercept\"] * 1e3))\n",
    "print(f\"T_V = {tV_qcs_parametric_compilation} ms\")"
   ]
  },
  {
   "cell_type": "code",
   "execution_count": 15,
   "metadata": {},
   "outputs": [
    {
     "name": "stdout",
     "output_type": "stream",
     "text": [
      "T_V = 36 ms\n"
     ]
    }
   ],
   "source": [
    "fit_result_low_shots_qcs_active_qubit_reset = linear_model.fit(data=y_qcs_active_qubit_reset[:10],\n",
    "                                                                   x=x_qcs_active_qubit_reset[:10])\n",
    "tV_qcs_active_qubit_reset = int(round(fit_result_low_shots_qcs_active_qubit_reset.values[\"intercept\"] * 1e3))\n",
    "print(f\"T_V = {tV_qcs_active_qubit_reset} ms\")"
   ]
  },
  {
   "cell_type": "markdown",
   "metadata": {},
   "source": [
    "### Extract $n_c$ from $T_V$ to $T_Q$ ratio"
   ]
  },
  {
   "cell_type": "code",
   "execution_count": 16,
   "metadata": {},
   "outputs": [
    {
     "name": "stdout",
     "output_type": "stream",
     "text": [
      "n_c = 1700 shots\n"
     ]
    }
   ],
   "source": [
    "nC = int(round((tV_qcs_active_qubit_reset * 1e-3) / (tQ_qcs_active_qubit_reset * 1e-6), -2))\n",
    "print(f\"n_c = {nC} shots\")"
   ]
  },
  {
   "cell_type": "markdown",
   "metadata": {},
   "source": [
    "### Extract QCS vs Forest Web API multiplier"
   ]
  },
  {
   "cell_type": "code",
   "execution_count": 17,
   "metadata": {},
   "outputs": [
    {
     "name": "stdout",
     "output_type": "stream",
     "text": [
      "T_Q improves over 12x from the Forest Web API to QCS\n"
     ]
    }
   ],
   "source": [
    "tQ_improvement = int(tQ_forest_web_api / tQ_qcs_active_qubit_reset)\n",
    "print(f\"T_Q improves over {tQ_improvement}x from the Forest Web API to QCS\")"
   ]
  },
  {
   "cell_type": "code",
   "execution_count": 18,
   "metadata": {},
   "outputs": [
    {
     "name": "stdout",
     "output_type": "stream",
     "text": [
      "T_V improves over 27x from the Forest Web API to QCS\n"
     ]
    }
   ],
   "source": [
    "tV_improvement = int(tV_forest_web_api / (tV_qcs_active_qubit_reset * 1e-3))\n",
    "print(f\"T_V improves over {tV_improvement}x from the Forest Web API to QCS\")"
   ]
  },
  {
   "cell_type": "markdown",
   "metadata": {},
   "source": [
    "## Plot the Data"
   ]
  },
  {
   "cell_type": "code",
   "execution_count": 19,
   "metadata": {},
   "outputs": [],
   "source": [
    "def add_formatting_ax(ax: plt.Axes, rightmost: bool = False):\n",
    "    ax.set_ylim(0.01, 25)\n",
    "    ax.set_xlim(1, 100_000)\n",
    "    ax.set_xscale(\"log\")\n",
    "    ax.set_yscale(\"log\")\n",
    "    if rightmost:\n",
    "        ax.set_xticks([1,10,100,1000,10000,100_000])\n",
    "    else:\n",
    "        ax.set_xticks([1,10,100,1000,10000])\n",
    "    ax.tick_params(axis=\"x\", labelsize=14)\n",
    "    ax.tick_params(axis=\"y\", labelsize=14)\n",
    "    ax.legend(loc=\"upper left\", fontsize=15)\n",
    "    ax.set_xlabel(\"shots\", size=16)"
   ]
  },
  {
   "cell_type": "code",
   "execution_count": 20,
   "metadata": {},
   "outputs": [
    {
     "data": {
      "image/png": "[encoded data removed]",
      "text/plain": [
       "<Figure size 1008x360 with 4 Axes>"
      ]
     },
     "metadata": {},
     "output_type": "display_data"
    }
   ],
   "source": [
    "FIG_TEXT_X = 20_000\n",
    "FIG_TEXT_Y = 0.014\n",
    "FIG_TEXT_SIZE = 16\n",
    "SHOTS_MIN = 1\n",
    "SHOTS_MAX = 100_000\n",
    "\n",
    "DARK_TEAL = \"#47717d\"\n",
    "GOLD = \"#f8ba2b\"\n",
    "LIGHT_GRAY = \"#989fa8\"\n",
    "LIGHT_TEAL = \"#66acb4\"\n",
    "\n",
    "# figure with 1 row of 4 subplots, sharing the y-axis\n",
    "fig, (ax0, ax1, ax2, ax3) = plt.subplots(1, 4, figsize=(14, 5), sharey=True) \n",
    "\n",
    "# set the spacing between subplots to zero\n",
    "fig.subplots_adjust(wspace=0)\n",
    "\n",
    "################\n",
    "# FOREST WEB API\n",
    "################\n",
    "\n",
    "# plot median runtime data for the forest web api\n",
    "ax0.scatter(x_forest_web_api,\n",
    "            y_forest_web_api,\n",
    "            marker=\"o\",\n",
    "            color=LIGHT_GRAY)\n",
    "\n",
    "# plot slope-1 asymptote for forest web api data\n",
    "ax0.plot([SHOTS_MIN, SHOTS_MAX],\n",
    "         [2.7478e-04, 39.673719999999996],\n",
    "         \"--\",\n",
    "         color=LIGHT_GRAY,\n",
    "         label=rf\"$T_Q = {tQ_forest_web_api}$ μs\")\n",
    "\n",
    "# plot horizontal asymptote for forest web api data\n",
    "ax0.axhline(1.03130023,\n",
    "            linestyle=\":\",\n",
    "            color=LIGHT_GRAY,\n",
    "            label=rf\"$T_V = {tV_forest_web_api}$ s\")\n",
    "\n",
    "# add the (a) label for forest web api data\n",
    "ax0.text(FIG_TEXT_X, FIG_TEXT_Y, \"(a)\", fontsize=FIG_TEXT_SIZE)\n",
    "\n",
    "######################\n",
    "# STANDARD COMPILATION\n",
    "######################\n",
    "\n",
    "# plot median runtime data for QCS + standard compilation\n",
    "ax1.scatter(x_qcs_standard_compilation,\n",
    "            y_qcs_standard_compilation,\n",
    "            marker=\"^\",\n",
    "            color=LIGHT_TEAL)\n",
    "\n",
    "# plot slope-1 asymptote for standard compilation data\n",
    "ax1.plot([SHOTS_MIN, SHOTS_MAX],\n",
    "         [tQ_qcs_standard_compilation*1e-6, y_qcs_standard_compilation[-1]],\n",
    "         \"--\",\n",
    "         color=LIGHT_TEAL,\n",
    "         label=rf\"$T_Q = {tQ_qcs_standard_compilation}$ μs\")\n",
    "\n",
    "# plot horizontal asymptote for standard compilation data\n",
    "ax1.axhline(tV_qcs_standard_compilation*1e-3,\n",
    "            linestyle=\":\",\n",
    "            color=LIGHT_TEAL,\n",
    "            label=rf\"$T_V = {tV_qcs_standard_compilation}$ ms\")\n",
    "\n",
    "# add the (b) label for standard compilation data\n",
    "ax1.text(FIG_TEXT_X, FIG_TEXT_Y, \"(b)\", fontsize=FIG_TEXT_SIZE)\n",
    "\n",
    "########################\n",
    "# PARAMETRIC COMPILATION\n",
    "########################\n",
    "\n",
    "# plot median runtime data for QCS + parametric compilation\n",
    "ax2.scatter(x_qcs_parametric_compilation,\n",
    "            y_qcs_parametric_compilation,\n",
    "            marker=\"s\",\n",
    "            color=DARK_TEAL)\n",
    "\n",
    "# plot slope-1 asymptote for parametric compilation data\n",
    "ax2.plot([SHOTS_MIN, SHOTS_MAX],\n",
    "         [tQ_qcs_parametric_compilation*1e-6, y_qcs_parametric_compilation[-1]],\n",
    "         \"--\",\n",
    "         color=DARK_TEAL,\n",
    "         label=rf\"$T_Q = {tQ_qcs_parametric_compilation}$ μs\")\n",
    "\n",
    "# plot horizontal asymptote for parametric compilation data\n",
    "ax2.axhline(tV_qcs_parametric_compilation*1e-3,\n",
    "            linestyle=\":\",\n",
    "            color=DARK_TEAL,\n",
    "            label=rf\"$T_V = {tV_qcs_parametric_compilation}$ ms\")\n",
    "\n",
    "# add the (c) label for parametric compilation data\n",
    "ax2.text(FIG_TEXT_X, FIG_TEXT_Y,\"(c)\", fontsize=FIG_TEXT_SIZE)\n",
    "\n",
    "####################\n",
    "# ACTIVE QUBIT RESET\n",
    "####################\n",
    "\n",
    "# plot median runtime data for QCS + active qubit reset\n",
    "ax3.scatter(x_qcs_active_qubit_reset,\n",
    "            y_qcs_active_qubit_reset,\n",
    "            marker=\"D\",\n",
    "            color=GOLD)\n",
    "\n",
    "# plot slope-1 asymptote for active qubit reset data\n",
    "ax3.plot([SHOTS_MIN, SHOTS_MAX],\n",
    "         [tQ_qcs_active_qubit_reset*1e-6, y_qcs_active_qubit_reset[-1]],\n",
    "         \"--\",\n",
    "         color=GOLD,\n",
    "         label=rf\"$T_Q = {tQ_qcs_active_qubit_reset}$ μs\")\n",
    "\n",
    "# plot horizontal asymptote for active qubit reset data\n",
    "ax3.axhline(tV_qcs_active_qubit_reset*1e-3,\n",
    "            linestyle=\":\",\n",
    "            color=GOLD,\n",
    "            label=rf\"$T_V = {tV_qcs_active_qubit_reset}$ ms\")\n",
    "\n",
    "# add the (d) label for active qubit reset data\n",
    "ax3.text(FIG_TEXT_X, FIG_TEXT_Y,\"(d)\", fontsize=FIG_TEXT_SIZE)\n",
    "\n",
    "# plot the critical shot number (n_c)\n",
    "ax3.plot([nC],\n",
    "         tV_qcs_active_qubit_reset*1e-3,\n",
    "         marker=\"*\",\n",
    "         markersize=14,\n",
    "         color=\"#980000\",\n",
    "         linestyle=\"None\",\n",
    "         label=rf\"$n_c = {nC}$\")\n",
    "\n",
    "############\n",
    "# FORMATTING\n",
    "############\n",
    "\n",
    "# add formatting to each subplot\n",
    "add_formatting_ax(ax0)\n",
    "add_formatting_ax(ax1)\n",
    "add_formatting_ax(ax2)\n",
    "add_formatting_ax(ax3, rightmost=True)\n",
    "\n",
    "# add a y-axis label to subplot 0\n",
    "ax0.set_ylabel(\"runtime [s]\", size=FIG_TEXT_SIZE);"
   ]
  }
 ],
 "metadata": {
  "kernelspec": {
   "display_name": "Python 3",
   "language": "python",
   "name": "python3"
  },
  "language_info": {
   "codemirror_mode": {
    "name": "ipython",
    "version": 3
   },
   "file_extension": ".py",
   "mimetype": "text/x-python",
   "name": "python",
   "nbconvert_exporter": "python",
   "pygments_lexer": "ipython3",
   "version": "3.6.3"
  }
 },
 "nbformat": 4,
 "nbformat_minor": 4
}
