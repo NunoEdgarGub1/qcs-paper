{
 "cells": [
  {
   "cell_type": "markdown",
   "metadata": {},
   "source": [
    "# Random Phase Gadgets\n",
    "\n",
    "Code for producing the family of circuits seen in **Figure 4** from _A quantum-classical cloud platform optimized for variational hybrid algorithms_."
   ]
  },
  {
   "cell_type": "code",
   "execution_count": 1,
   "metadata": {},
   "outputs": [],
   "source": [
    "import random\n",
    "from typing import Optional\n",
    "\n",
    "from pyquil import Program\n",
    "from pyquil.gates import CNOT, H, MEASURE, RZ\n",
    "from pyquil.latex import display"
   ]
  },
  {
   "cell_type": "code",
   "execution_count": 2,
   "metadata": {},
   "outputs": [],
   "source": [
    "def random_phase_gadget(qubits: int, depth: int, seed: Optional[int] = None) -> Program:\n",
    "    if seed:\n",
    "        random.seed(seed)\n",
    "\n",
    "    pairs = qubits // 2\n",
    "    alphas =  pairs * depth\n",
    "    permutation = list(range(qubits))\n",
    "    random.shuffle(permutation)\n",
    "    \n",
    "    i = 0\n",
    "    p = Program()\n",
    "    alpha = p.declare(\"alpha\", \"REAL\", alphas)\n",
    "    for layer in range(depth):\n",
    "        for pair in range(pairs):\n",
    "            control = permutation[2 * pair]\n",
    "            target = permutation[2 * pair + 1]\n",
    "            p += H(control)\n",
    "            p += H(target)\n",
    "            p += CNOT(control, target)\n",
    "            p += RZ(alpha[i], target)\n",
    "            p += CNOT(control, target)\n",
    "            i += 1\n",
    "        random.shuffle(permutation)\n",
    "    \n",
    "    for qubit in permutation:\n",
    "        p += H(qubit)\n",
    "\n",
    "    ro = p.declare(\"ro\", \"BIT\", qubits)\n",
    "    for idx, qubit in enumerate(permutation):\n",
    "        p += MEASURE(qubit, ro[idx])\n",
    "\n",
    "    return p"
   ]
  },
  {
   "cell_type": "code",
   "execution_count": 3,
   "metadata": {},
   "outputs": [
    {
     "name": "stdout",
     "output_type": "stream",
     "text": [
      "DECLARE alpha REAL[2]\n",
      "H 1\n",
      "H 0\n",
      "CNOT 1 0\n",
      "RZ(alpha[0]) 0\n",
      "CNOT 1 0\n",
      "H 1\n",
      "H 0\n",
      "CNOT 1 0\n",
      "RZ(alpha[1]) 0\n",
      "CNOT 1 0\n",
      "H 1\n",
      "H 0\n",
      "DECLARE ro BIT[2]\n",
      "MEASURE 1 ro[0]\n",
      "MEASURE 0 ro[1]\n",
      "\n"
     ]
    }
   ],
   "source": [
    "m = d = 2\n",
    "rpg = random_phase_gadget(m, d)\n",
    "print(rpg)"
   ]
  },
  {
   "cell_type": "code",
   "execution_count": 4,
   "metadata": {
    "scrolled": true
   },
   "outputs": [
    {
     "data": {
      "image/png": "[encoded data removed]",
      "text/plain": [
       "<IPython.core.display.Image object>"
      ]
     },
     "execution_count": 4,
     "metadata": {},
     "output_type": "execute_result"
    }
   ],
   "source": [
    "display(rpg)"
   ]
  }
 ],
 "metadata": {
  "kernelspec": {
   "display_name": "Python 3",
   "language": "python",
   "name": "python3"
  },
  "language_info": {
   "codemirror_mode": {
    "name": "ipython",
    "version": 3
   },
   "file_extension": ".py",
   "mimetype": "text/x-python",
   "name": "python",
   "nbconvert_exporter": "python",
   "pygments_lexer": "ipython3",
   "version": "3.6.3"
  }
 },
 "nbformat": 4,
 "nbformat_minor": 4
}
